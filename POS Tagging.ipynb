{
 "cells": [
  {
   "cell_type": "code",
   "execution_count": null,
   "id": "f0ed284b",
   "metadata": {},
   "outputs": [],
   "source": [
    "# install the below library to use futher code \n",
    "\n",
    "# !pip install -U spacy\n",
    "# !python -m spacy download en_core_web_sm\n",
    "# !pip install gradio\n"
   ]
  },
  {
   "cell_type": "code",
   "execution_count": null,
   "id": "a8cd06d5",
   "metadata": {},
   "outputs": [],
   "source": [
    "import spacy\n",
    "import pandas as pd"
   ]
  },
  {
   "cell_type": "code",
   "execution_count": null,
   "id": "ca41beef",
   "metadata": {},
   "outputs": [],
   "source": [
    "def greet(sentence):\n",
    "    nlp = spacy.load('en_core_web_sm')\n",
    "    doc = nlp(sentence)\n",
    "    pos_tags = []\n",
    "    for token in doc:\n",
    "        pos_tags.append((token.text,token.pos_, spacy.explain(token.pos_)))\n",
    "    df = pd.DataFrame(pos_tags, columns=['Token', 'POS Tag', 'Explanation'])\n",
    "    \n",
    "    return df"
   ]
  },
  {
   "cell_type": "code",
   "execution_count": null,
   "id": "b606e599",
   "metadata": {},
   "outputs": [],
   "source": [
    "# example\n",
    "sent = \"dog is barking\"\n",
    "greet(sent)"
   ]
  },
  {
   "cell_type": "code",
   "execution_count": null,
   "id": "140a957d",
   "metadata": {},
   "outputs": [],
   "source": [
    "import gradio as gr # to represent the input output of code through gardio library for better representation"
   ]
  },
  {
   "cell_type": "code",
   "execution_count": null,
   "id": "c997b45e",
   "metadata": {},
   "outputs": [],
   "source": [
    "iface = gr.Interface(fn = greet,inputs = 'text', outputs = 'text')\n",
    "iface.launch()"
   ]
  },
  {
   "cell_type": "code",
   "execution_count": null,
   "id": "a63d9731",
   "metadata": {},
   "outputs": [],
   "source": []
  }
 ],
 "metadata": {
  "kernelspec": {
   "display_name": "Python 3 (ipykernel)",
   "language": "python",
   "name": "python3"
  },
  "language_info": {
   "codemirror_mode": {
    "name": "ipython",
    "version": 3
   },
   "file_extension": ".py",
   "mimetype": "text/x-python",
   "name": "python",
   "nbconvert_exporter": "python",
   "pygments_lexer": "ipython3",
   "version": "3.9.18"
  }
 },
 "nbformat": 4,
 "nbformat_minor": 5
}
